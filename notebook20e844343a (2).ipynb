{
 "cells": [
  {
   "cell_type": "markdown",
   "id": "452754a9",
   "metadata": {
    "papermill": {
     "duration": 0.006284,
     "end_time": "2025-09-01T16:39:20.315514",
     "exception": false,
     "start_time": "2025-09-01T16:39:20.309230",
     "status": "completed"
    },
    "tags": []
   },
   "source": [
    "# Instructions \n",
    "\n",
    "- Make sure you’re logged into Kaggle.\n",
    "- Load the **Video Game Sales dataset** (CSV file is provided in the Kaggle input section).  \n",
    "- Carefully read through each step and run the cells in order.  \n",
    "- Do **not** skip steps — each builds on the previous one.  \n",
    "- Add your own observations wherever possible, especially when exploring graphs.  \n",
    "- Remember: This is practice for real-world data preprocessing + EDA, so try to think *why* each step is done, not just *how*.  \n",
    "- At the end, feel free to explore further — add more plots, groupbys, or questions you want to answer!  \n",
    "\n"
   ]
  },
  {
   "cell_type": "markdown",
   "id": "f6574382",
   "metadata": {
    "papermill": {
     "duration": 0.005309,
     "end_time": "2025-09-01T16:39:20.327232",
     "exception": false,
     "start_time": "2025-09-01T16:39:20.321923",
     "status": "completed"
    },
    "tags": []
   },
   "source": [
    "Welcome to your next checkpoint on the Synapse road!\n",
    "Today we’re diving into the Video Game Sales dataset to practice real-world data preprocessing + EDA. Think of this like prepping ingredients before cooking — we’ll clean, slice, and plate the data so insights pop 🍽️"
   ]
  },
  {
   "cell_type": "markdown",
   "id": "0dd70472",
   "metadata": {
    "papermill": {
     "duration": 0.005121,
     "end_time": "2025-09-01T16:39:20.337819",
     "exception": false,
     "start_time": "2025-09-01T16:39:20.332698",
     "status": "completed"
    },
    "tags": []
   },
   "source": [
    "We’ll be using pandas, numpy, matplotlib, and seaborn for this task.\n",
    "Run the following cell to import them"
   ]
  },
  {
   "cell_type": "code",
   "execution_count": 1,
   "id": "947689f1",
   "metadata": {
    "execution": {
     "iopub.execute_input": "2025-09-01T16:39:20.352238Z",
     "iopub.status.busy": "2025-09-01T16:39:20.351805Z",
     "iopub.status.idle": "2025-09-01T16:39:24.077712Z",
     "shell.execute_reply": "2025-09-01T16:39:24.076911Z"
    },
    "papermill": {
     "duration": 3.734623,
     "end_time": "2025-09-01T16:39:24.079504",
     "exception": false,
     "start_time": "2025-09-01T16:39:20.344881",
     "status": "completed"
    },
    "tags": []
   },
   "outputs": [],
   "source": [
    "import pandas as pd\n",
    "import numpy as np\n",
    "import matplotlib.pyplot as plt\n",
    "import seaborn as sns"
   ]
  },
  {
   "cell_type": "markdown",
   "id": "3f575f4d",
   "metadata": {
    "papermill": {
     "duration": 0.005296,
     "end_time": "2025-09-01T16:39:24.090423",
     "exception": false,
     "start_time": "2025-09-01T16:39:24.085127",
     "status": "completed"
    },
    "tags": []
   },
   "source": [
    "Alright, now that we’ve got our tools ready, let’s bring in the star of the show — the **Video Game Sales dataset** 🎮  \n",
    "\n",
    "Your task:  \n",
    "- Load the dataset into a pandas DataFrame.  \n",
    "- Take a quick peek at the first few rows using.  \n",
    "- Check the shape of the dataset to see how big this universe is.  \n",
    "\n",
    "Think of this step as unboxing a new console — gotta see what’s inside first!  \n"
   ]
  },
  {
   "cell_type": "code",
   "execution_count": 2,
   "id": "0a33b9ac",
   "metadata": {
    "execution": {
     "iopub.execute_input": "2025-09-01T16:39:24.102744Z",
     "iopub.status.busy": "2025-09-01T16:39:24.102279Z",
     "iopub.status.idle": "2025-09-01T16:39:24.204389Z",
     "shell.execute_reply": "2025-09-01T16:39:24.203176Z"
    },
    "papermill": {
     "duration": 0.110347,
     "end_time": "2025-09-01T16:39:24.206144",
     "exception": false,
     "start_time": "2025-09-01T16:39:24.095797",
     "status": "completed"
    },
    "tags": []
   },
   "outputs": [
    {
     "name": "stdout",
     "output_type": "stream",
     "text": [
      "        Rank                                              Name Platform  \\\n",
      "0          1                                        Wii Sports      Wii   \n",
      "1          2                                 Super Mario Bros.      NES   \n",
      "2          3                                    Mario Kart Wii      Wii   \n",
      "3          4                                 Wii Sports Resort      Wii   \n",
      "4          5                          Pokemon Red/Pokemon Blue       GB   \n",
      "...      ...                                               ...      ...   \n",
      "16593  16596                Woody Woodpecker in Crazy Castle 5      GBA   \n",
      "16594  16597                     Men in Black II: Alien Escape       GC   \n",
      "16595  16598  SCORE International Baja 1000: The Official Game      PS2   \n",
      "16596  16599                                        Know How 2       DS   \n",
      "16597  16600                                  Spirits & Spells      GBA   \n",
      "\n",
      "         Year         Genre   Publisher  NA_Sales  EU_Sales  JP_Sales  \\\n",
      "0      2006.0        Sports    Nintendo     41.49     29.02      3.77   \n",
      "1      1985.0      Platform    Nintendo     29.08      3.58      6.81   \n",
      "2      2008.0        Racing    Nintendo     15.85     12.88      3.79   \n",
      "3      2009.0        Sports    Nintendo     15.75     11.01      3.28   \n",
      "4      1996.0  Role-Playing    Nintendo     11.27      8.89     10.22   \n",
      "...       ...           ...         ...       ...       ...       ...   \n",
      "16593  2002.0      Platform       Kemco      0.01      0.00      0.00   \n",
      "16594  2003.0       Shooter  Infogrames      0.01      0.00      0.00   \n",
      "16595  2008.0        Racing  Activision      0.00      0.00      0.00   \n",
      "16596  2010.0        Puzzle    7G//AMES      0.00      0.01      0.00   \n",
      "16597  2003.0      Platform     Wanadoo      0.01      0.00      0.00   \n",
      "\n",
      "       Other_Sales  Global_Sales  \n",
      "0             8.46         82.74  \n",
      "1             0.77         40.24  \n",
      "2             3.31         35.82  \n",
      "3             2.96         33.00  \n",
      "4             1.00         31.37  \n",
      "...            ...           ...  \n",
      "16593         0.00          0.01  \n",
      "16594         0.00          0.01  \n",
      "16595         0.00          0.01  \n",
      "16596         0.00          0.01  \n",
      "16597         0.00          0.01  \n",
      "\n",
      "[16598 rows x 11 columns]\n"
     ]
    }
   ],
   "source": [
    "import pandas as pd\n",
    "df=pd.read_csv('/kaggle/input/videogamesales/vgsales.csv')\n",
    "print(df)"
   ]
  },
  {
   "cell_type": "markdown",
   "id": "331d863a",
   "metadata": {
    "papermill": {
     "duration": 0.007235,
     "end_time": "2025-09-01T16:39:24.219578",
     "exception": false,
     "start_time": "2025-09-01T16:39:24.212343",
     "status": "completed"
    },
    "tags": []
   },
   "source": []
  },
  {
   "cell_type": "code",
   "execution_count": 3,
   "id": "671960e1",
   "metadata": {
    "execution": {
     "iopub.execute_input": "2025-09-01T16:39:24.232607Z",
     "iopub.status.busy": "2025-09-01T16:39:24.232319Z",
     "iopub.status.idle": "2025-09-01T16:39:24.241753Z",
     "shell.execute_reply": "2025-09-01T16:39:24.240780Z"
    },
    "papermill": {
     "duration": 0.017838,
     "end_time": "2025-09-01T16:39:24.243582",
     "exception": false,
     "start_time": "2025-09-01T16:39:24.225744",
     "status": "completed"
    },
    "tags": []
   },
   "outputs": [
    {
     "name": "stdout",
     "output_type": "stream",
     "text": [
      "   Rank                      Name Platform    Year         Genre Publisher  \\\n",
      "0     1                Wii Sports      Wii  2006.0        Sports  Nintendo   \n",
      "1     2         Super Mario Bros.      NES  1985.0      Platform  Nintendo   \n",
      "2     3            Mario Kart Wii      Wii  2008.0        Racing  Nintendo   \n",
      "3     4         Wii Sports Resort      Wii  2009.0        Sports  Nintendo   \n",
      "4     5  Pokemon Red/Pokemon Blue       GB  1996.0  Role-Playing  Nintendo   \n",
      "\n",
      "   NA_Sales  EU_Sales  JP_Sales  Other_Sales  Global_Sales  \n",
      "0     41.49     29.02      3.77         8.46         82.74  \n",
      "1     29.08      3.58      6.81         0.77         40.24  \n",
      "2     15.85     12.88      3.79         3.31         35.82  \n",
      "3     15.75     11.01      3.28         2.96         33.00  \n",
      "4     11.27      8.89     10.22         1.00         31.37  \n"
     ]
    }
   ],
   "source": [
    "peeking=df.head(n=5)\n",
    "print(peeking)"
   ]
  },
  {
   "cell_type": "code",
   "execution_count": 4,
   "id": "7ab440d2",
   "metadata": {
    "execution": {
     "iopub.execute_input": "2025-09-01T16:39:24.256777Z",
     "iopub.status.busy": "2025-09-01T16:39:24.256471Z",
     "iopub.status.idle": "2025-09-01T16:39:24.263030Z",
     "shell.execute_reply": "2025-09-01T16:39:24.262099Z"
    },
    "papermill": {
     "duration": 0.014951,
     "end_time": "2025-09-01T16:39:24.264589",
     "exception": false,
     "start_time": "2025-09-01T16:39:24.249638",
     "status": "completed"
    },
    "tags": []
   },
   "outputs": [
    {
     "data": {
      "text/plain": [
       "(16598, 11)"
      ]
     },
     "execution_count": 4,
     "metadata": {},
     "output_type": "execute_result"
    }
   ],
   "source": [
    "df.shape\n"
   ]
  },
  {
   "cell_type": "code",
   "execution_count": null,
   "id": "c06fef30",
   "metadata": {
    "papermill": {
     "duration": 0.00561,
     "end_time": "2025-09-01T16:39:24.276312",
     "exception": false,
     "start_time": "2025-09-01T16:39:24.270702",
     "status": "completed"
    },
    "tags": []
   },
   "outputs": [],
   "source": []
  },
  {
   "cell_type": "markdown",
   "id": "eb934a5c",
   "metadata": {
    "papermill": {
     "duration": 0.005712,
     "end_time": "2025-09-01T16:39:24.287595",
     "exception": false,
     "start_time": "2025-09-01T16:39:24.281883",
     "status": "completed"
    },
    "tags": []
   },
   "source": [
    "### 🕹️ Level 1: Meet the Characters  \n",
    "\n",
    "Now that we’ve unboxed our dataset, let’s get to know the **cast of characters**:  \n",
    "- What kinds of columns do we have? (numeric, object, etc.)  \n",
    "- How many missing values are there?  \n",
    "\n",
    "Your task:  \n",
    "- To get a quick overview of column types + null values.  \n",
    "- To double-check the data types.  \n",
    "\n",
    "This step is like reading the **character bios** before starting a game   \n"
   ]
  },
  {
   "cell_type": "code",
   "execution_count": 5,
   "id": "f4f1dfdf",
   "metadata": {
    "execution": {
     "iopub.execute_input": "2025-09-01T16:39:24.300303Z",
     "iopub.status.busy": "2025-09-01T16:39:24.299950Z",
     "iopub.status.idle": "2025-09-01T16:39:24.361723Z",
     "shell.execute_reply": "2025-09-01T16:39:24.360603Z"
    },
    "papermill": {
     "duration": 0.06989,
     "end_time": "2025-09-01T16:39:24.363107",
     "exception": false,
     "start_time": "2025-09-01T16:39:24.293217",
     "status": "completed"
    },
    "tags": []
   },
   "outputs": [
    {
     "name": "stdout",
     "output_type": "stream",
     "text": [
      "Overview of DataFrame:\n",
      "<class 'pandas.core.frame.DataFrame'>\n",
      "RangeIndex: 16598 entries, 0 to 16597\n",
      "Data columns (total 11 columns):\n",
      " #   Column        Non-Null Count  Dtype  \n",
      "---  ------        --------------  -----  \n",
      " 0   Rank          16598 non-null  int64  \n",
      " 1   Name          16598 non-null  object \n",
      " 2   Platform      16598 non-null  object \n",
      " 3   Year          16327 non-null  float64\n",
      " 4   Genre         16598 non-null  object \n",
      " 5   Publisher     16540 non-null  object \n",
      " 6   NA_Sales      16598 non-null  float64\n",
      " 7   EU_Sales      16598 non-null  float64\n",
      " 8   JP_Sales      16598 non-null  float64\n",
      " 9   Other_Sales   16598 non-null  float64\n",
      " 10  Global_Sales  16598 non-null  float64\n",
      "dtypes: float64(6), int64(1), object(4)\n",
      "memory usage: 1.4+ MB\n",
      "None\n"
     ]
    }
   ],
   "source": [
    "import pandas as pd\n",
    "df=pd.read_csv('/kaggle/input/videogamesales/vgsales.csv')\n",
    "print(\"Overview of DataFrame:\")\n",
    "print(df.info())"
   ]
  },
  {
   "cell_type": "markdown",
   "id": "0cb1e1b8",
   "metadata": {
    "papermill": {
     "duration": 0.005631,
     "end_time": "2025-09-01T16:39:24.374879",
     "exception": false,
     "start_time": "2025-09-01T16:39:24.369248",
     "status": "completed"
    },
    "tags": []
   },
   "source": [
    "\n",
    "dtypes: float64(6), int64(1), object(4)"
   ]
  },
  {
   "cell_type": "markdown",
   "id": "72521f26",
   "metadata": {
    "papermill": {
     "duration": 0.005856,
     "end_time": "2025-09-01T16:39:24.386600",
     "exception": false,
     "start_time": "2025-09-01T16:39:24.380744",
     "status": "completed"
    },
    "tags": []
   },
   "source": [
    "MISSING VALUES\n"
   ]
  },
  {
   "cell_type": "code",
   "execution_count": 6,
   "id": "283e7659",
   "metadata": {
    "execution": {
     "iopub.execute_input": "2025-09-01T16:39:24.399859Z",
     "iopub.status.busy": "2025-09-01T16:39:24.399554Z",
     "iopub.status.idle": "2025-09-01T16:39:24.410357Z",
     "shell.execute_reply": "2025-09-01T16:39:24.409275Z"
    },
    "papermill": {
     "duration": 0.019081,
     "end_time": "2025-09-01T16:39:24.411789",
     "exception": false,
     "start_time": "2025-09-01T16:39:24.392708",
     "status": "completed"
    },
    "tags": []
   },
   "outputs": [
    {
     "name": "stdout",
     "output_type": "stream",
     "text": [
      "Rank              0\n",
      "Name              0\n",
      "Platform          0\n",
      "Year            271\n",
      "Genre             0\n",
      "Publisher        58\n",
      "NA_Sales          0\n",
      "EU_Sales          0\n",
      "JP_Sales          0\n",
      "Other_Sales       0\n",
      "Global_Sales      0\n",
      "dtype: int64\n"
     ]
    }
   ],
   "source": [
    "print(df.isnull().sum())"
   ]
  },
  {
   "cell_type": "code",
   "execution_count": 7,
   "id": "69c3b849",
   "metadata": {
    "execution": {
     "iopub.execute_input": "2025-09-01T16:39:24.424976Z",
     "iopub.status.busy": "2025-09-01T16:39:24.424674Z",
     "iopub.status.idle": "2025-09-01T16:39:24.430484Z",
     "shell.execute_reply": "2025-09-01T16:39:24.429518Z"
    },
    "papermill": {
     "duration": 0.013938,
     "end_time": "2025-09-01T16:39:24.431888",
     "exception": false,
     "start_time": "2025-09-01T16:39:24.417950",
     "status": "completed"
    },
    "tags": []
   },
   "outputs": [
    {
     "name": "stdout",
     "output_type": "stream",
     "text": [
      "Data Types:\n",
      "Rank              int64\n",
      "Name             object\n",
      "Platform         object\n",
      "Year            float64\n",
      "Genre            object\n",
      "Publisher        object\n",
      "NA_Sales        float64\n",
      "EU_Sales        float64\n",
      "JP_Sales        float64\n",
      "Other_Sales     float64\n",
      "Global_Sales    float64\n",
      "dtype: object\n"
     ]
    }
   ],
   "source": [
    "print(\"Data Types:\")\n",
    "print(df.dtypes)"
   ]
  },
  {
   "cell_type": "markdown",
   "id": "f6ef92e4",
   "metadata": {
    "papermill": {
     "duration": 0.005857,
     "end_time": "2025-09-01T16:39:24.443972",
     "exception": false,
     "start_time": "2025-09-01T16:39:24.438115",
     "status": "completed"
    },
    "tags": []
   },
   "source": [
    "### 🎯 Level 2: Quick Stats Check (Describe the Data)  \n",
    "\n",
    "Every good gamer checks the **stats screen** before playing  \n",
    "Now, let’s do the same for our dataset:  \n",
    "\n",
    "Your task:  \n",
    "- To get summary statistics for numerical columns.  \n",
    "- Notice things like average sales, max values, and distribution hints.  \n",
    "\n",
    "This is like peeking at the **scoreboard** — who’s leading, what’s the high score?   \n"
   ]
  },
  {
   "cell_type": "markdown",
   "id": "54108f56",
   "metadata": {
    "papermill": {
     "duration": 0.005939,
     "end_time": "2025-09-01T16:39:24.456124",
     "exception": false,
     "start_time": "2025-09-01T16:39:24.450185",
     "status": "completed"
    },
    "tags": []
   },
   "source": [
    "SCOREBOARD"
   ]
  },
  {
   "cell_type": "code",
   "execution_count": 8,
   "id": "76790f96",
   "metadata": {
    "execution": {
     "iopub.execute_input": "2025-09-01T16:39:24.469792Z",
     "iopub.status.busy": "2025-09-01T16:39:24.469501Z",
     "iopub.status.idle": "2025-09-01T16:39:24.501337Z",
     "shell.execute_reply": "2025-09-01T16:39:24.500309Z"
    },
    "papermill": {
     "duration": 0.040786,
     "end_time": "2025-09-01T16:39:24.502902",
     "exception": false,
     "start_time": "2025-09-01T16:39:24.462116",
     "status": "completed"
    },
    "tags": []
   },
   "outputs": [
    {
     "name": "stdout",
     "output_type": "stream",
     "text": [
      "               Rank          Year      NA_Sales      EU_Sales      JP_Sales  \\\n",
      "count  16598.000000  16327.000000  16598.000000  16598.000000  16598.000000   \n",
      "mean    8300.605254   2006.406443      0.264667      0.146652      0.077782   \n",
      "std     4791.853933      5.828981      0.816683      0.505351      0.309291   \n",
      "min        1.000000   1980.000000      0.000000      0.000000      0.000000   \n",
      "25%     4151.250000   2003.000000      0.000000      0.000000      0.000000   \n",
      "50%     8300.500000   2007.000000      0.080000      0.020000      0.000000   \n",
      "75%    12449.750000   2010.000000      0.240000      0.110000      0.040000   \n",
      "max    16600.000000   2020.000000     41.490000     29.020000     10.220000   \n",
      "\n",
      "        Other_Sales  Global_Sales  \n",
      "count  16598.000000  16598.000000  \n",
      "mean       0.048063      0.537441  \n",
      "std        0.188588      1.555028  \n",
      "min        0.000000      0.010000  \n",
      "25%        0.000000      0.060000  \n",
      "50%        0.010000      0.170000  \n",
      "75%        0.040000      0.470000  \n",
      "max       10.570000     82.740000  \n"
     ]
    }
   ],
   "source": [
    "board=df.describe()\n",
    "print(board)"
   ]
  },
  {
   "cell_type": "markdown",
   "id": "e29927d1",
   "metadata": {
    "papermill": {
     "duration": 0.005853,
     "end_time": "2025-09-01T16:39:24.514940",
     "exception": false,
     "start_time": "2025-09-01T16:39:24.509087",
     "status": "completed"
    },
    "tags": []
   },
   "source": [
    "## 🧹 Level 3: Clean the Map (Missing Values)\n",
    "\n",
    "Time to sweep the floor before we play.\n",
    "\n",
    "**Your tasks:**\n",
    "- Check how many missing values are in each column.\n",
    "- For this dataset, handle missing values in **`Year`** and **`Publisher`** by removing those rows.\n",
    "- Re-check to confirm there are **no missing values left**.\n",
    "\n",
    "> Tip: Do a quick sanity check after cleaning (row count should drop a bit).\n"
   ]
  },
  {
   "cell_type": "code",
   "execution_count": 9,
   "id": "4b896d8b",
   "metadata": {
    "execution": {
     "iopub.execute_input": "2025-09-01T16:39:24.529071Z",
     "iopub.status.busy": "2025-09-01T16:39:24.528229Z",
     "iopub.status.idle": "2025-09-01T16:39:24.538604Z",
     "shell.execute_reply": "2025-09-01T16:39:24.537499Z"
    },
    "papermill": {
     "duration": 0.019309,
     "end_time": "2025-09-01T16:39:24.540277",
     "exception": false,
     "start_time": "2025-09-01T16:39:24.520968",
     "status": "completed"
    },
    "tags": []
   },
   "outputs": [
    {
     "name": "stdout",
     "output_type": "stream",
     "text": [
      "Rank              0\n",
      "Name              0\n",
      "Platform          0\n",
      "Year            271\n",
      "Genre             0\n",
      "Publisher        58\n",
      "NA_Sales          0\n",
      "EU_Sales          0\n",
      "JP_Sales          0\n",
      "Other_Sales       0\n",
      "Global_Sales      0\n",
      "dtype: int64\n"
     ]
    }
   ],
   "source": [
    "print(df.isnull().sum())"
   ]
  },
  {
   "cell_type": "code",
   "execution_count": 10,
   "id": "562b3aa5",
   "metadata": {
    "execution": {
     "iopub.execute_input": "2025-09-01T16:39:24.553733Z",
     "iopub.status.busy": "2025-09-01T16:39:24.553417Z",
     "iopub.status.idle": "2025-09-01T16:39:24.569267Z",
     "shell.execute_reply": "2025-09-01T16:39:24.568149Z"
    },
    "papermill": {
     "duration": 0.024329,
     "end_time": "2025-09-01T16:39:24.570865",
     "exception": false,
     "start_time": "2025-09-01T16:39:24.546536",
     "status": "completed"
    },
    "tags": []
   },
   "outputs": [
    {
     "name": "stdout",
     "output_type": "stream",
     "text": [
      "Rank            0\n",
      "Name            0\n",
      "Platform        0\n",
      "Year            0\n",
      "Genre           0\n",
      "Publisher       0\n",
      "NA_Sales        0\n",
      "EU_Sales        0\n",
      "JP_Sales        0\n",
      "Other_Sales     0\n",
      "Global_Sales    0\n",
      "dtype: int64\n"
     ]
    }
   ],
   "source": [
    "df_remove= df.dropna(subset=[\"Year\", \"Publisher\"])\n",
    "print(df_remove.isnull().sum())"
   ]
  },
  {
   "cell_type": "markdown",
   "id": "660acc6a",
   "metadata": {
    "papermill": {
     "duration": 0.005997,
     "end_time": "2025-09-01T16:39:24.583169",
     "exception": false,
     "start_time": "2025-09-01T16:39:24.577172",
     "status": "completed"
    },
    "tags": []
   },
   "source": [
    "## 🔢 Level 4: Patch the `Year` Column (Data Types)\n",
    "\n",
    "`Year` often shows up as a float (e.g., `2008.0`) because of missing values earlier.\n",
    "\n",
    "**Your tasks:**\n",
    "- Convert **`Year`** to **integer**.\n",
    "- Re-run a quick `info` to confirm the dtype change.\n",
    "\n",
    "> If conversion fails, revisit Level 3 — some NaNs may still be lurking.\n"
   ]
  },
  {
   "cell_type": "code",
   "execution_count": 11,
   "id": "116bb26f",
   "metadata": {
    "execution": {
     "iopub.execute_input": "2025-09-01T16:39:24.596441Z",
     "iopub.status.busy": "2025-09-01T16:39:24.596053Z",
     "iopub.status.idle": "2025-09-01T16:39:24.612028Z",
     "shell.execute_reply": "2025-09-01T16:39:24.611114Z"
    },
    "papermill": {
     "duration": 0.024318,
     "end_time": "2025-09-01T16:39:24.613470",
     "exception": false,
     "start_time": "2025-09-01T16:39:24.589152",
     "status": "completed"
    },
    "tags": []
   },
   "outputs": [
    {
     "name": "stdout",
     "output_type": "stream",
     "text": [
      "<class 'pandas.core.frame.DataFrame'>\n",
      "Index: 16291 entries, 0 to 16597\n",
      "Data columns (total 11 columns):\n",
      " #   Column        Non-Null Count  Dtype  \n",
      "---  ------        --------------  -----  \n",
      " 0   Rank          16291 non-null  int64  \n",
      " 1   Name          16291 non-null  object \n",
      " 2   Platform      16291 non-null  object \n",
      " 3   Year          16291 non-null  int64  \n",
      " 4   Genre         16291 non-null  object \n",
      " 5   Publisher     16291 non-null  object \n",
      " 6   NA_Sales      16291 non-null  float64\n",
      " 7   EU_Sales      16291 non-null  float64\n",
      " 8   JP_Sales      16291 non-null  float64\n",
      " 9   Other_Sales   16291 non-null  float64\n",
      " 10  Global_Sales  16291 non-null  float64\n",
      "dtypes: float64(5), int64(2), object(4)\n",
      "memory usage: 1.5+ MB\n",
      "None\n"
     ]
    },
    {
     "name": "stderr",
     "output_type": "stream",
     "text": [
      "/tmp/ipykernel_13/468369680.py:1: SettingWithCopyWarning: \n",
      "A value is trying to be set on a copy of a slice from a DataFrame.\n",
      "Try using .loc[row_indexer,col_indexer] = value instead\n",
      "\n",
      "See the caveats in the documentation: https://pandas.pydata.org/pandas-docs/stable/user_guide/indexing.html#returning-a-view-versus-a-copy\n",
      "  df_remove['Year'] = df_remove['Year'].astype(int)\n"
     ]
    }
   ],
   "source": [
    "df_remove['Year'] = df_remove['Year'].astype(int)\n",
    "\n",
    "print(df_remove.info())\n"
   ]
  },
  {
   "cell_type": "markdown",
   "id": "6b165a67",
   "metadata": {
    "papermill": {
     "duration": 0.005856,
     "end_time": "2025-09-01T16:39:24.625723",
     "exception": false,
     "start_time": "2025-09-01T16:39:24.619867",
     "status": "completed"
    },
    "tags": []
   },
   "source": [
    "\n",
    "## 🎮 Level 5: Spotting the Legends  \n",
    "Now that we’ve explored platforms and genres, let’s look at the **all-time best sellers**.  \n",
    "Your task:  \n",
    "\n",
    "List the **Top 5 best-selling video games**.  \n",
    "We’ll display their **Name, Platform, Genre, and Global Sales**.  \n",
    "\n",
    "Think of this as the **Hall of Fame of Video Games** \n",
    "\n",
    "\n"
   ]
  },
  {
   "cell_type": "code",
   "execution_count": 12,
   "id": "a57d801e",
   "metadata": {
    "execution": {
     "iopub.execute_input": "2025-09-01T16:39:24.639493Z",
     "iopub.status.busy": "2025-09-01T16:39:24.639141Z",
     "iopub.status.idle": "2025-09-01T16:39:24.649772Z",
     "shell.execute_reply": "2025-09-01T16:39:24.648755Z"
    },
    "papermill": {
     "duration": 0.019327,
     "end_time": "2025-09-01T16:39:24.651302",
     "exception": false,
     "start_time": "2025-09-01T16:39:24.631975",
     "status": "completed"
    },
    "tags": []
   },
   "outputs": [
    {
     "name": "stdout",
     "output_type": "stream",
     "text": [
      "                       Name Platform         Genre  Global_Sales\n",
      "0                Wii Sports      Wii        Sports         82.74\n",
      "1         Super Mario Bros.      NES      Platform         40.24\n",
      "2            Mario Kart Wii      Wii        Racing         35.82\n",
      "3         Wii Sports Resort      Wii        Sports         33.00\n",
      "4  Pokemon Red/Pokemon Blue       GB  Role-Playing         31.37\n"
     ]
    }
   ],
   "source": [
    "\n",
    "Top5=df_remove.sort_values(by=\"Global_Sales\",ascending=False).head()\n",
    "print(Top5[[\"Name\",\"Platform\",\"Genre\",\"Global_Sales\"]])"
   ]
  },
  {
   "cell_type": "markdown",
   "id": "bdcdffd9",
   "metadata": {
    "papermill": {
     "duration": 0.00606,
     "end_time": "2025-09-01T16:39:24.663831",
     "exception": false,
     "start_time": "2025-09-01T16:39:24.657771",
     "status": "completed"
    },
    "tags": []
   },
   "source": [
    "\n",
    "## 🎮 Level 6: Which Console Ruled the Game?  \n",
    "Every console/platform has a legacy — but which one released the **most number of games**?  \n",
    "\n",
    "Count the number of games released on each platform.  \n",
    "Create a **bar chart** to visualize it.  \n",
    "Finally, answer: **Which platform has the highest number of releases?** \n",
    "\n",
    "  \n"
   ]
  },
  {
   "cell_type": "code",
   "execution_count": 13,
   "id": "6fb15c54",
   "metadata": {
    "execution": {
     "iopub.execute_input": "2025-09-01T16:39:24.678193Z",
     "iopub.status.busy": "2025-09-01T16:39:24.677266Z",
     "iopub.status.idle": "2025-09-01T16:39:24.685060Z",
     "shell.execute_reply": "2025-09-01T16:39:24.684019Z"
    },
    "papermill": {
     "duration": 0.016741,
     "end_time": "2025-09-01T16:39:24.686744",
     "exception": false,
     "start_time": "2025-09-01T16:39:24.670003",
     "status": "completed"
    },
    "tags": []
   },
   "outputs": [
    {
     "name": "stdout",
     "output_type": "stream",
     "text": [
      "Number of games released per platform:\n",
      "\n",
      "Platform\n",
      "DS      2131\n",
      "PS2     2127\n",
      "PS3     1304\n",
      "Wii     1290\n",
      "X360    1234\n",
      "PSP     1197\n",
      "PS      1189\n",
      "PC       938\n",
      "XB       803\n",
      "GBA      786\n",
      "GC       542\n",
      "3DS      499\n",
      "PSV      410\n",
      "PS4      336\n",
      "N64      316\n",
      "SNES     239\n",
      "XOne     213\n",
      "SAT      173\n",
      "WiiU     143\n",
      "2600     116\n",
      "NES       98\n",
      "GB        97\n",
      "DC        52\n",
      "GEN       27\n",
      "NG        12\n",
      "SCD        6\n",
      "WS         6\n",
      "3DO        3\n",
      "TG16       2\n",
      "GG         1\n",
      "PCFX       1\n",
      "Name: count, dtype: int64\n"
     ]
    }
   ],
   "source": [
    "df_counts = df_remove[\"Platform\"].value_counts()\n",
    "\n",
    "print(\"Number of games released per platform:\\n\")\n",
    "print(df_counts)\n"
   ]
  },
  {
   "cell_type": "code",
   "execution_count": 14,
   "id": "6092ec8b",
   "metadata": {
    "execution": {
     "iopub.execute_input": "2025-09-01T16:39:24.701034Z",
     "iopub.status.busy": "2025-09-01T16:39:24.700747Z",
     "iopub.status.idle": "2025-09-01T16:39:25.262263Z",
     "shell.execute_reply": "2025-09-01T16:39:25.261430Z"
    },
    "papermill": {
     "duration": 0.571454,
     "end_time": "2025-09-01T16:39:25.264779",
     "exception": false,
     "start_time": "2025-09-01T16:39:24.693325",
     "status": "completed"
    },
    "tags": []
   },
   "outputs": [
    {
     "data": {
      "image/png": "[encoded data removed]",
      "text/plain": [
       "<Figure size 1200x600 with 1 Axes>"
      ]
     },
     "metadata": {},
     "output_type": "display_data"
    },
    {
     "name": "stdout",
     "output_type": "stream",
     "text": [
      "The platform with the highest number of releases is DS with 2131 games.\n"
     ]
    }
   ],
   "source": [
    "import matplotlib.pyplot as plt\n",
    "plt.figure(figsize=(12,6))\n",
    "df_counts.plot(kind='bar')\n",
    "\n",
    "plt.title(\"Number of Games Released per Platform\")\n",
    "plt.xlabel(\"Platform\")\n",
    "plt.ylabel(\"Number of Games\")\n",
    "plt.xticks(rotation=45)\n",
    "plt.show()\n",
    "\n",
    "top_platform = df_counts.idxmax()\n",
    "top_count = df_counts.max()\n",
    "\n",
    "print(f\"The platform with the highest number of releases is {top_platform} with {top_count} games.\")\n"
   ]
  },
  {
   "cell_type": "markdown",
   "id": "1f4dc912",
   "metadata": {
    "papermill": {
     "duration": 0.007029,
     "end_time": "2025-09-01T16:39:25.279479",
     "exception": false,
     "start_time": "2025-09-01T16:39:25.272450",
     "status": "completed"
    },
    "tags": []
   },
   "source": [
    "\n",
    "## 🏢 Level 7: The Big Bosses (Top Publishers)  \n",
    "Some publishers dominate the industry like final bosses \n",
    "\n",
    "Your task:  \n",
    "- Find the **Top 5 publishers** with the highest **total Global Sales**.  \n",
    "- Show their contribution using a **pie chart** \n",
    "\n",
    "This will help us see who really controlled the gaming world  \n"
   ]
  },
  {
   "cell_type": "code",
   "execution_count": 15,
   "id": "8425c594",
   "metadata": {
    "execution": {
     "iopub.execute_input": "2025-09-01T16:39:25.295322Z",
     "iopub.status.busy": "2025-09-01T16:39:25.294931Z",
     "iopub.status.idle": "2025-09-01T16:39:25.306076Z",
     "shell.execute_reply": "2025-09-01T16:39:25.305097Z"
    },
    "papermill": {
     "duration": 0.020945,
     "end_time": "2025-09-01T16:39:25.307628",
     "exception": false,
     "start_time": "2025-09-01T16:39:25.286683",
     "status": "completed"
    },
    "tags": []
   },
   "outputs": [
    {
     "name": "stdout",
     "output_type": "stream",
     "text": [
      "Publisher\n",
      "Nintendo                       1784.43\n",
      "Electronic Arts                1093.39\n",
      "Activision                      721.41\n",
      "Sony Computer Entertainment     607.28\n",
      "Ubisoft                         473.54\n",
      "Name: Global_Sales, dtype: float64\n"
     ]
    }
   ],
   "source": [
    "publisher_sales = df_remove.groupby(\"Publisher\")[\"Global_Sales\"].sum()\n",
    "\n",
    "top5 = publisher_sales.sort_values(ascending=False).head(5)\n",
    "print(top5)"
   ]
  },
  {
   "cell_type": "code",
   "execution_count": 16,
   "id": "1bbc412a",
   "metadata": {
    "execution": {
     "iopub.execute_input": "2025-09-01T16:39:25.325665Z",
     "iopub.status.busy": "2025-09-01T16:39:25.325069Z",
     "iopub.status.idle": "2025-09-01T16:39:25.483394Z",
     "shell.execute_reply": "2025-09-01T16:39:25.482438Z"
    },
    "papermill": {
     "duration": 0.169568,
     "end_time": "2025-09-01T16:39:25.484967",
     "exception": false,
     "start_time": "2025-09-01T16:39:25.315399",
     "status": "completed"
    },
    "tags": []
   },
   "outputs": [
    {
     "data": {
      "image/png": "[encoded data removed]",
      "text/plain": [
       "<Figure size 800x800 with 1 Axes>"
      ]
     },
     "metadata": {},
     "output_type": "display_data"
    }
   ],
   "source": [
    "plt.figure(figsize=(8,8))\n",
    "top5.plot(kind=\"pie\", autopct=\"%1.1f%%\", startangle=140)\n",
    "\n",
    "plt.title(\"Top 5 Publishers by Global Sales Contribution\")\n",
    "plt.ylabel(\"\")  # removes extra label\n",
    "plt.show()"
   ]
  },
  {
   "cell_type": "markdown",
   "id": "4cff928a",
   "metadata": {
    "papermill": {
     "duration": 0.008779,
     "end_time": "2025-09-01T16:39:25.502618",
     "exception": false,
     "start_time": "2025-09-01T16:39:25.493839",
     "status": "completed"
    },
    "tags": []
   },
   "source": [
    "\n",
    "## 🌍 Level 8: Genre Champions in Europe  \n",
    "Different genres have their own kings in different regions.  \n",
    "Let’s focus on **Europe (EU Sales)** for now.  \n",
    "\n",
    "Your task:  \n",
    "- For **each Genre**, find the **Publisher** that has the highest **total EU Sales**.  \n",
    "- Print the results as a list (Genre → Top Publisher).  \n",
    "\n",
    "Think of this as awarding the **regional championship belts**  \n",
    "\n"
   ]
  },
  {
   "cell_type": "code",
   "execution_count": 17,
   "id": "d34583b2",
   "metadata": {
    "execution": {
     "iopub.execute_input": "2025-09-01T16:39:25.521890Z",
     "iopub.status.busy": "2025-09-01T16:39:25.521565Z",
     "iopub.status.idle": "2025-09-01T16:39:25.539484Z",
     "shell.execute_reply": "2025-09-01T16:39:25.538273Z"
    },
    "papermill": {
     "duration": 0.029552,
     "end_time": "2025-09-01T16:39:25.541122",
     "exception": false,
     "start_time": "2025-09-01T16:39:25.511570",
     "status": "completed"
    },
    "tags": []
   },
   "outputs": [
    {
     "name": "stdout",
     "output_type": "stream",
     "text": [
      "             Genre             Publisher  EU_Sales\n",
      "198         Action  Take-Two Interactive     70.44\n",
      "416      Adventure               Ubisoft      8.08\n",
      "511       Fighting                   THQ     20.58\n",
      "663           Misc              Nintendo     51.62\n",
      "804       Platform              Nintendo     84.90\n",
      "908         Puzzle              Nintendo     26.42\n",
      "987         Racing       Electronic Arts     51.20\n",
      "1192  Role-Playing              Nintendo     63.92\n",
      "1246       Shooter            Activision     96.86\n",
      "1430    Simulation       Electronic Arts     35.83\n",
      "1592        Sports       Electronic Arts    144.14\n",
      "1712      Strategy            Activision      7.94\n"
     ]
    }
   ],
   "source": [
    "genre_sales = df_remove.groupby([\"Genre\", \"Publisher\"])[\"EU_Sales\"].sum().reset_index()\n",
    "top_publishers = genre_sales.loc[genre_sales.groupby(\"Genre\")[\"EU_Sales\"].idxmax()]\n",
    "\n",
    "print(top_publishers)"
   ]
  },
  {
   "cell_type": "markdown",
   "id": "b37f4aaa",
   "metadata": {
    "papermill": {
     "duration": 0.008942,
     "end_time": "2025-09-01T16:39:25.559246",
     "exception": false,
     "start_time": "2025-09-01T16:39:25.550304",
     "status": "completed"
    },
    "tags": []
   },
   "source": [
    "\n",
    "## 🎯 Level 9: Nintendo’s Golden Year  \n",
    "Nintendo is one of the biggest names in gaming 🎮  \n",
    "But… which year did Nintendo achieve its **highest total Global Sales**?  \n",
    "\n",
    "Your task:  \n",
    "- Filter the dataset for **Publisher = Nintendo**.  \n",
    "- Group sales by year.  \n",
    "- Find the year with the **highest global sales**.  \n",
    "\n",
    "This is like uncovering the **peak of Nintendo’s power**   \n",
    "\n"
   ]
  },
  {
   "cell_type": "code",
   "execution_count": null,
   "id": "79b79ff8",
   "metadata": {
    "papermill": {
     "duration": 0.008816,
     "end_time": "2025-09-01T16:39:25.576946",
     "exception": false,
     "start_time": "2025-09-01T16:39:25.568130",
     "status": "completed"
    },
    "tags": []
   },
   "outputs": [],
   "source": []
  },
  {
   "cell_type": "markdown",
   "id": "35cc48fe",
   "metadata": {
    "papermill": {
     "duration": 0.008748,
     "end_time": "2025-09-01T16:39:25.594699",
     "exception": false,
     "start_time": "2025-09-01T16:39:25.585951",
     "status": "completed"
    },
    "tags": []
   },
   "source": [
    "\n",
    "## 🏟️ Final Boss Arena: The Data Playground  \n",
    "\n",
    "You’ve fought through all the levels ⚔️, now it’s time to explore on your own 🎉  \n",
    "\n",
    "Your final mission:  \n",
    "- Choose **any 2–3 plots** (your choice!) that show **interesting patterns** in the data.   \n",
    "\n",
    "💡 This is your **creative zone** → Think of it as building your own “story” from the dataset.  \n",
    "\n",
    "When you’re done, share your best plot with the team — let’s see who finds the coolest insight!  \n",
    "\n"
   ]
  },
  {
   "cell_type": "code",
   "execution_count": null,
   "id": "bf827da5",
   "metadata": {
    "papermill": {
     "duration": 0.072634,
     "end_time": "2025-09-01T16:39:25.676346",
     "exception": false,
     "start_time": "2025-09-01T16:39:25.603712",
     "status": "completed"
    },
    "tags": []
   },
   "outputs": [],
   "source": []
  }
 ],
 "metadata": {
  "kaggle": {
   "accelerator": "none",
   "dataSources": [
    {
     "datasetId": 284,
     "sourceId": 618,
     "sourceType": "datasetVersion"
    }
   ],
   "dockerImageVersionId": 31089,
   "isGpuEnabled": false,
   "isInternetEnabled": false,
   "language": "python",
   "sourceType": "notebook"
  },
  "kernelspec": {
   "display_name": "Python 3",
   "language": "python",
   "name": "python3"
  },
  "language_info": {
   "codemirror_mode": {
    "name": "ipython",
    "version": 3
   },
   "file_extension": ".py",
   "mimetype": "text/x-python",
   "name": "python",
   "nbconvert_exporter": "python",
   "pygments_lexer": "ipython3",
   "version": "3.11.13"
  },
  "papermill": {
   "default_parameters": {},
   "duration": 11.687998,
   "end_time": "2025-09-01T16:39:26.406010",
   "environment_variables": {},
   "exception": null,
   "input_path": "__notebook__.ipynb",
   "output_path": "__notebook__.ipynb",
   "parameters": {},
   "start_time": "2025-09-01T16:39:14.718012",
   "version": "2.6.0"
  }
 },
 "nbformat": 4,
 "nbformat_minor": 5
}
